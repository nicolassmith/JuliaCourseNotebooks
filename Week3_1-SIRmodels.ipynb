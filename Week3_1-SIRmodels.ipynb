{
 "cells": [
  {
   "cell_type": "code",
   "execution_count": 2,
   "metadata": {},
   "outputs": [
    {
     "data": {
      "text/html": [
       "<link href='http://fonts.googleapis.com/css?family=Alegreya+Sans:100,300,400,500,700,800,900,100italic,300italic,400italic,500italic,700italic,800italic,900italic' rel='stylesheet' type='text/css'>\r\n",
       "<link href='http://fonts.googleapis.com/css?family=Arvo:400,700,400italic' rel='stylesheet' type='text/css'>\r\n",
       "<link href='http://fonts.googleapis.com/css?family=PT+Mono' rel='stylesheet' type='text/css'>\r\n",
       "<link href='http://fonts.googleapis.com/css?family=Shadows+Into+Light' rel='stylesheet' type='text/css'>\r\n",
       "<link href='http://fonts.googleapis.com/css?family=Philosopher:400,700,400italic,700italic' rel='stylesheet' type='text/css'>\r\n",
       "\r\n",
       "<style>\r\n",
       "\r\n",
       "@font-face {\r\n",
       "    font-family: \"Computer Modern\";\r\n",
       "    src: url('http://mirrors.ctan.org/fonts/cm-unicode/fonts/otf/cmunss.otf');\r\n",
       "}\r\n",
       "\r\n",
       "#notebook_panel { /* main background */\r\n",
       "    background: #ddd;\r\n",
       "    color: #000000;\r\n",
       "}\r\n",
       "\r\n",
       "\r\n",
       "\r\n",
       "/* Formatting for header cells */\r\n",
       ".text_cell_render h1 {\r\n",
       "    font-family: 'Philosopher', sans-serif;\r\n",
       "    font-weight: 400;\r\n",
       "    font-size: 2.2em;\r\n",
       "    line-height: 100%;\r\n",
       "    color: rgb(0, 80, 120);\r\n",
       "    margin-bottom: 0.1em;\r\n",
       "    margin-top: 0.1em;\r\n",
       "    display: block;\r\n",
       "}\t\r\n",
       ".text_cell_render h2 {\r\n",
       "    font-family: 'Philosopher', serif;\r\n",
       "    font-weight: 400;\r\n",
       "    font-size: 1.9em;\r\n",
       "    line-height: 100%;\r\n",
       "    color: rgb(200,100,0);\r\n",
       "    margin-bottom: 0.1em;\r\n",
       "    margin-top: 0.1em;\r\n",
       "    display: block;\r\n",
       "}\t\r\n",
       "\r\n",
       ".text_cell_render h3 {\r\n",
       "    font-family: 'Philosopher', serif;\r\n",
       "    margin-top:12px;\r\n",
       "    margin-bottom: 3px;\r\n",
       "    font-style: italic;\r\n",
       "    color: rgb(94,127,192);\r\n",
       "}\r\n",
       "\r\n",
       ".text_cell_render h4 {\r\n",
       "    font-family: 'Philosopher', serif;\r\n",
       "}\r\n",
       "\r\n",
       ".text_cell_render h5 {\r\n",
       "    font-family: 'Alegreya Sans', sans-serif;\r\n",
       "    font-weight: 300;\r\n",
       "    font-size: 16pt;\r\n",
       "    color: grey;\r\n",
       "    font-style: italic;\r\n",
       "    margin-bottom: .1em;\r\n",
       "    margin-top: 0.1em;\r\n",
       "    display: block;\r\n",
       "}\r\n",
       "\r\n",
       ".text_cell_render h6 {\r\n",
       "    font-family: 'PT Mono', sans-serif;\r\n",
       "    font-weight: 300;\r\n",
       "    font-size: 10pt;\r\n",
       "    color: grey;\r\n",
       "    margin-bottom: 1px;\r\n",
       "    margin-top: 1px;\r\n",
       "}\r\n",
       "\r\n",
       ".CodeMirror{\r\n",
       "        font-family: \"PT Mono\";\r\n",
       "        font-size: 100%;\r\n",
       "}\r\n",
       "\r\n",
       "</style>\r\n",
       "\r\n"
      ],
      "text/plain": [
       "HTML{String}(\"<link href='http://fonts.googleapis.com/css?family=Alegreya+Sans:100,300,400,500,700,800,900,100italic,300italic,400italic,500italic,700italic,800italic,900italic' rel='stylesheet' type='text/css'>\\r\\n<link href='http://fonts.googleapis.com/css?family=Arvo:400,700,400italic' rel='stylesheet' type='text/css'>\\r\\n<link href='http://fonts.googleapis.com/css?family=PT+Mono' rel='stylesheet' type='text/css'>\\r\\n<link href='http://fonts.googleapis.com/css?family=Shadows+Into+Light' rel='stylesheet' type='text/css'>\\r\\n<link href='http://fonts.googleapis.com/css?family=Philosopher:400,700,400italic,700italic' rel='stylesheet' type='text/css'>\\r\\n\\r\\n<style>\\r\\n\\r\\n@font-face {\\r\\n    font-family: \\\"Computer Modern\\\";\\r\\n    src: url('http://mirrors.ctan.org/fonts/cm-unicode/fonts/otf/cmunss.otf');\\r\\n}\\r\\n\\r\\n#notebook_panel { /* main background */\\r\\n    background: #ddd;\\r\\n    color: #000000;\\r\\n}\\r\\n\\r\\n\\r\\n\\r\\n/* Formatting for header cells */\\r\\n.text_cell_render h1 {\\r\\n    font-family: 'Philosopher', sans-serif;\\r\\n    font-weight: 400;\\r\\n    font-size: 2.2em;\\r\\n    line-height: 100%;\\r\\n    color: rgb(0, 80, 120);\\r\\n    margin-bottom: 0.1em;\\r\\n    margin-top: 0.1em;\\r\\n    display: block;\\r\\n}\\t\\r\\n.text_cell_render h2 {\\r\\n    font-family: 'Philosopher', serif;\\r\\n    font-weight: 400;\\r\\n    font-size: 1.9em;\\r\\n    line-height: 100%;\\r\\n    color: rgb(200,100,0);\\r\\n    margin-bottom: 0.1em;\\r\\n    margin-top: 0.1em;\\r\\n    display: block;\\r\\n}\\t\\r\\n\\r\\n.text_cell_render h3 {\\r\\n    font-family: 'Philosopher', serif;\\r\\n    margin-top:12px;\\r\\n    margin-bottom: 3px;\\r\\n    font-style: italic;\\r\\n    color: rgb(94,127,192);\\r\\n}\\r\\n\\r\\n.text_cell_render h4 {\\r\\n    font-family: 'Philosopher', serif;\\r\\n}\\r\\n\\r\\n.text_cell_render h5 {\\r\\n    font-family: 'Alegreya Sans', sans-serif;\\r\\n    font-weight: 300;\\r\\n    font-size: 16pt;\\r\\n    color: grey;\\r\\n    font-style: italic;\\r\\n    margin-bottom: .1em;\\r\\n    margin-top: 0.1em;\\r\\n    display: block;\\r\\n}\\r\\n\\r\\n.text_cell_render h6 {\\r\\n    font-family: 'PT Mono', sans-serif;\\r\\n    font-weight: 300;\\r\\n    font-size: 10pt;\\r\\n    color: grey;\\r\\n    margin-bottom: 1px;\\r\\n    margin-top: 1px;\\r\\n}\\r\\n\\r\\n.CodeMirror{\\r\\n        font-family: \\\"PT Mono\\\";\\r\\n        font-size: 100%;\\r\\n}\\r\\n\\r\\n</style>\\r\\n\\r\\n\")"
      ]
     },
     "execution_count": 2,
     "metadata": {},
     "output_type": "execute_result"
    }
   ],
   "source": [
    "# Setting up a custom stylesheet in IJulia\n",
    "file = open(\"style.css\") # A .css file in the same folder as this notebook file\n",
    "styl = readstring(file) # Read the file\n",
    "HTML(\"$styl\") # Output as HTML"
   ]
  },
  {
   "cell_type": "markdown",
   "metadata": {},
   "source": [
    "<h1> SIR models of disease dynamics </h1>"
   ]
  },
  {
   "cell_type": "markdown",
   "metadata": {},
   "source": [
    "<h2>In this lecture</h2>\n",
    "\n",
    "- [Outcome](#Outcome)\n",
    "- [SIR Models: the concepts](#SIR-Models:-the-concepts)\n",
    "- [SIR Models: the equations](#SIR-Models:-the-equations)\n",
    "- [Julia code: the function for one time-step](#Julia-code:-the-function-for-one-time-step)\n",
    "- [Julia code: the loop structure](#Julia-code:-the-loop-structure)\n",
    "- [Running the model](#Running-the-model)\n",
    "- [Plotting the results](#Plotting-the-results)\n"
   ]
  },
  {
   "cell_type": "markdown",
   "metadata": {},
   "source": [
    "[Back to the top](#In-this-lecture)"
   ]
  },
  {
   "cell_type": "markdown",
   "metadata": {},
   "source": [
    "<h2>Outcome</h2>\n",
    "\n",
    "After this lecture, you will be able to\n",
    "- Define the compartments S, I and R of an SIR\n",
    "- Formulate an SIR model for infectious diseases\n",
    "- Write a \"for\" loop to for an SIR model \n",
    "- Plot the curves for S(t), I(t) and R(t)\n",
    "\n",
    "[Back to the top](#In-this-lecture)"
   ]
  },
  {
   "cell_type": "markdown",
   "metadata": {},
   "source": [
    "<h2>SIR Models: the concepts</h2>\n",
    "\n",
    "SIR models formalise what is probably the simplest possible way to think of an epidemic: \n",
    "- before the epidemic starts, there is a population at risk of catching the disease\n",
    "- the disease spreads from infected to susceptible people\n",
    "- after a while, people are no longer infected\n",
    "- once infected, people are never infected again\n",
    "- we ignore all other differences between people\n",
    "\n",
    "We use the symbol $S$ for the number of people who are still at risk of the disease. \"$S$\" is short for \"susceptible\", meaning a person who hasn't had the disease and might catch it. We think of $S$ as a function of time, that is, we think that as the epidemic progresses, $S$ changes. Therefore we write $S(t)$ for the number of suseptibles at time $t$.\n",
    "\n",
    "The number $S(0)$, which is the number of susceptibles at the start of the epidemic, is a key value in this model.\n",
    "\n",
    "The number of infected people at time $t$ is given by $I(t)$. We assume that $I(0) > 0$, because otherwise the epidemic can't start.\n",
    "\n",
    "Finally, the people previously infected but no longer infectious are called \"removed\". (Unfortunately, this doesn't mean they've recovered. They may still be ill, or as happens tragically often with Ebola, they may be dead). We use $R(t)$ to symbolise the number of removed people  at time $t$.\n",
    "\n",
    "\n"
   ]
  },
  {
   "cell_type": "markdown",
   "metadata": {},
   "source": [
    "**NB! It is not necessary for S, I and R to be whole numbers. ** This is a model, and all we want is for the predicted values of $S$, $I$ and $R$ to be close to what is observed. By close we mean within a few percent. In fact, because the models are so simple and the real situation so variable, getting numbers within a few percent is a major achievement.\n",
    "\n",
    "Unfortunately, this is usually possible only with  hindsight. We will show that an SIR model can do pretty well for the 2014 West African EVD epidemic, but it will be with hindsight. The course of the epidemic was not successfully predicted until it was nearly over."
   ]
  },
  {
   "cell_type": "markdown",
   "metadata": {},
   "source": [
    "[Back to the top](#In-this-lecture)"
   ]
  },
  {
   "cell_type": "markdown",
   "metadata": {},
   "source": [
    "<h2>SIR Models: the equations</h2>\n",
    "\n",
    "We will model $S$, $I$ and $R$ in discrete time steps. In fact, we will use the same length of time step $dt$ for every step. We denote by $t_i$ the time after $i$ steps. Since we assume that $t_0 = 0$, we have $t_i = i\\,dt$.\n",
    "\n",
    "The model steps from $t_i$ to $t_{i+1}$, so what we want to do is use the values of $S(t_i)$, $I(t_i)$ and $R(t_i)$ to predict the values $S(t_{i+1})$, $I(t_{i+1})$ and $R(t_{i+1})$. So our model is set up in terms of three equations.\n",
    "\n",
    "These equations all have the form \"new value = old value + gains - losses\". The model specifies how we calculate the gains and losses.\n",
    "\n",
    "For susceptibles, there is only a loss term. The simplest SIR models come from the so-called \"law of mass action\". This law holds that all susceptibles have an equal chance of meeting an infected person. And the same is assumed for infected people. Then the number of  meetings of infecteds and susceptibles is proportional to product $SI$. We use the symbol $\\lambda$ for the constant of proportionality, and we interpret $\\lambda SI$ as the rate at which susceptibles become infected. This is of course a rate per day. So the actual loss over the time step $dt$ is actually $\\lambda SI\\,dt$ so the equation for $S$ is\n",
    "\n",
    "1 ...     $ S(t_{i+1}) = S(t_i) - \\lambda S(t_i)I(t_i)\\,dt$.\n",
    "\n",
    "On the other hand, the loss rate for infected people is just a constant probability of recovery per unit time. So a constant fraction $\\gamma$ is removed from the infecteds per day. This gives a loss of $\\gamma I$ infecteds per day, which is $\\gamma I\\,dt$ loss of infecteds per time step. The gain of infecteds must be exactly the susceptibles who become infected, so the equation for $I$ is\n",
    "\n",
    "2 ...     $I(t_{i+1}) = I(t_i) + \\lambda S(t_i)I(t_i)\\,dt - \\gamma I(t_i)\\,dt$.\n",
    "\n",
    "In an SIR model, the removed population equation has only a gain term, no loss term. What is lost from infecteds is gained by removeds, so the equation for $R$ is\n",
    "\n",
    "3 ...     $R(t_{i+1}) = R(t_i) + \\gamma I(t_i)\\,dt$.\n",
    "\n",
    "Our discrete SIR model consists of equations 1, 2 and 3 for $S$, $I$, $R$."
   ]
  },
  {
   "cell_type": "markdown",
   "metadata": {},
   "source": [
    "[Back to the top](#In-this-lecture)"
   ]
  },
  {
   "cell_type": "markdown",
   "metadata": {},
   "source": [
    "<h2>Julia code: the function for one time-step</h2>\n",
    "\n",
    "So now we consider the best way to write the Julia code. We have several options: we could write a \"for\" loop with the three equations inside; we could make three functions, one for each of $S$, $I$ and $R$; we could combine all three into one array and write one function to update all three at the same time. We will do that here.\n",
    "\n",
    "**Julia functions have access to all variables that are visible at the level that the function is created**\n",
    "\n",
    "This feature of Julia will surprise many experienced programmers. If we assign a value to the variable b and then call a function that uses b without mentioning b in the argument of the function, the function will nevertheless use the value of b as needed. See below:\n"
   ]
  },
  {
   "cell_type": "code",
   "execution_count": 3,
   "metadata": {},
   "outputs": [
    {
     "data": {
      "text/plain": [
       "24"
      ]
     },
     "execution_count": 3,
     "metadata": {},
     "output_type": "execute_result"
    }
   ],
   "source": [
    "b = 4;\n",
    "f(x) = b*x\n",
    "f(6)"
   ]
  },
  {
   "cell_type": "markdown",
   "metadata": {},
   "source": [
    "We will use this feature to pass the values of $\\lambda$ and $\\gamma$ to the updating function. That is, in writing the code for the function, we pass it only the $S$, $I$, $R$ arguments and take the parameter values from the context in which the function is called. This is actually amazingly convenient, especially when we want to experiment with different parameter values for  the sake of fitting the model output to the data.\n",
    "\n",
    "This means the function looks like this:"
   ]
  },
  {
   "cell_type": "code",
   "execution_count": 4,
   "metadata": {},
   "outputs": [
    {
     "data": {
      "text/plain": [
       "updateSIR (generic function with 1 method)"
      ]
     },
     "execution_count": 4,
     "metadata": {},
     "output_type": "execute_result"
    }
   ],
   "source": [
    "function updateSIR(popnvector)       # some liberty here: using upper case in the function name\n",
    "    susceptibles = popnvector[1];\n",
    "    infecteds    = popnvector[2]; \n",
    "    removeds     = popnvector[3];\n",
    "    newS = susceptibles - lambda*susceptibles*infecteds*dt\n",
    "    newI = infecteds + lambda*susceptibles*infecteds*dt - gam*infecteds*dt  #note abbreviation for gamma (see below)\n",
    "    newR = removeds + gam*infecteds*dt\n",
    "    return [newS newI newR]   # NB! spaces only to make this a one row of a two-dimensional array\n",
    "    #                   and note the use of \"return\" to specify what the function output should be \n",
    "end"
   ]
  },
  {
   "cell_type": "markdown",
   "metadata": {},
   "source": [
    "One should always do at least minimal checking that a function works as expected. \n",
    "\n",
    "For professional code, one should do extensive checking, both of output and input ... one should in fact write the function so that if it fails, it fails  gracefully, and give it some protection against error conditions. But we're not writing professional code!\n",
    "\n",
    "On the other hand, let us take the opportunity also to illustrate some typical bugs and how to meet them."
   ]
  },
  {
   "cell_type": "code",
   "execution_count": 5,
   "metadata": {},
   "outputs": [
    {
     "data": {
      "text/plain": [
       "1×3 Array{Float64,2}:\n",
       " 975.0  34.5  20.5"
      ]
     },
     "execution_count": 5,
     "metadata": {},
     "output_type": "execute_result"
    }
   ],
   "source": [
    "# first we set the parameters\n",
    "dt = 0.5                    # so we are taking two steps per day\n",
    "lambda = 1/200; gam = 1/10  #note that gamma is a function in the stats packages, so let's not use it as a name\n",
    "\n",
    "# then we specify the input vector to the function\n",
    "s, i, r = 1000., 10, 20  # multiple assignment\n",
    "vec = [s i r]         # followed by creating the input vector; spaces again so that it is a row of an array\n",
    "updateSIR(vec)        # finally the actual function call to test the function"
   ]
  },
  {
   "cell_type": "markdown",
   "metadata": {},
   "source": [
    "[Back to the top](#In-this-lecture)"
   ]
  },
  {
   "cell_type": "markdown",
   "metadata": {},
   "source": [
    "<h2>Julia code: the loop structure</h2>\n",
    "\n",
    "Now we consider the loop structure. We can't run the model indefinitely, of course, so there has to be a definite end time $T_f$. We will use $T_f=610$ days, which is just a little more than the number of epidemic days in the data from Wikipedia.\n",
    "\n",
    "The number of steps is then in principle $n = T_f/dt$, but here is a delicate moment in the use of computers. Computer arithmetic is not infinitely precise, and so we cannot be quite sure that if we use the computer to calculate $n$ in this way that we will exactly have $n\\,dt = T_f$ as we expect on the grounds of algebra. I like to set time as a separate variable, to keep explicit track of step number $i$, and to continue for $n$ steps. Then if at the end the time is not exactly $T_f$ it doesn't matter, because it will be extremely close to it.\n",
    "\n",
    "The take-home message is DO NOT RELY ON EXACT EQUALITY, even if you can reasonably expect it. Computers normally are only very close to the numbers you, the programmer, are thinking of (excluding again the exactness that professional programmers may sometimes achieve).\n",
    "\n",
    "Knowing the value of $n$ also allows us to initialise an array to hold all the values as they're collected, one row of three elements for each value of the time. This will end up being $n+1$ values, of course.\n",
    "\n",
    "So here is the concept code:"
   ]
  },
  {
   "cell_type": "code",
   "execution_count": 6,
   "metadata": {},
   "outputs": [],
   "source": [
    "tfinal = 610;    # respecting community values: lowercase only in the names \n",
    "nsteps = round(Int64, tfinal/dt)    # note the use of round() with type Int64 to ensure that nsteps is an integer\n",
    "#resultvals = Array(Float64, nsteps+1, 3)  #initialise array of type Float64 to hold results\n",
    "#timevec = Array(Float64, nsteps+1)        # ... ditto for time values\n",
    "resultvals = Array{Float64}(nsteps+1, 3)  #initialise array of type Float64 to hold results\n",
    "timevec = Array{Float64}(nsteps+1)        # ... ditto for time values\n",
    "\n",
    "# specify the initial values S(0), I(0), R(0)\n",
    "# resultvals[1,:] = [s0, i0, r0]  # ... and assign them to the first row\n",
    "\n",
    "for step  = 1:nsteps\n",
    "    # call updateSIR with the step vals and load result into resultvals[step+1, :]\n",
    "    # update time and load it into timevec\n",
    "end"
   ]
  },
  {
   "cell_type": "markdown",
   "metadata": {},
   "source": [
    "[Back to the top](#In-this-lecture)"
   ]
  },
  {
   "cell_type": "markdown",
   "metadata": {},
   "source": [
    "<h2>Running the model</h2>\n",
    "\n",
    "We can now run the model. To illustrate the steps, I paste the  cell above into the cell below, and supply the missing bits, this includes the parameter values that we set up before, but not the updateSIR function, as we do not wish to modify that."
   ]
  },
  {
   "cell_type": "code",
   "execution_count": 7,
   "metadata": {},
   "outputs": [],
   "source": [
    "# set the values that define the current run\n",
    "lambda = 1/20000   # infection rate parameter (assumes rates are per day)\n",
    "gam = 1/10       # recovery rate parameter  (ditto)\n",
    "dt = 0.5         # length of time step in days\n",
    "tfinal = 610;    # respecting community values: lowercase only in the names \n",
    "s0 = 10000.0     # initial susceptibles, note that we use the  type Float64 from the start\n",
    "i0 = 4.          # initial infecteds; set this to 1. to  mimic an epidemic with an index case\n",
    "r0 = 0.          # not always the case, of course\n",
    "\n",
    "# initialise \n",
    "nsteps = round(Int64, tfinal/dt)    # note the use of round() with type Int64 to ensure that nsteps is an integer\n",
    "resultvals = Array{Float64}(nsteps+1, 3)  #initialise array of type Float64 to hold results\n",
    "timevec = Array{Float64}(nsteps+1)        # ... ditto for time values\n",
    "resultvals[1,:] = [s0, i0, r0]  # ... and assign them to the first row\n",
    "timevec[1] = 0.                 # also Float64, of course.\n",
    "\n",
    "for step  = 1:nsteps\n",
    "    resultvals[step+1, :] = updateSIR(resultvals[step, :])  # NB! pay careful attention to the rows being used\n",
    "    timevec[step+1] = timevec[step] + dt\n",
    "end"
   ]
  },
  {
   "cell_type": "markdown",
   "metadata": {},
   "source": [
    "[Back to the top](#In-this-lecture)"
   ]
  },
  {
   "cell_type": "markdown",
   "metadata": {},
   "source": [
    "<h2>Plotting the results</h2>\n",
    "\n",
    "It is now simple  to plot the three population components versus the time.\n",
    "\n"
   ]
  },
  {
   "cell_type": "code",
   "execution_count": 8,
   "metadata": {},
   "outputs": [
    {
     "data": {
      "image/png": "[encoded data removed]"
     },
     "execution_count": 8,
     "metadata": {},
     "output_type": "execute_result"
    }
   ],
   "source": [
    "using Plots\n",
    "pyplot()\n",
    "plot(timevec, resultvals)  # quick and dirty! Plots ought to interpret this as we mean it ..."
   ]
  },
  {
   "cell_type": "code",
   "execution_count": 9,
   "metadata": {},
   "outputs": [
    {
     "data": {
      "image/png": "[encoded data removed]"
     },
     "execution_count": 9,
     "metadata": {},
     "output_type": "execute_result"
    }
   ],
   "source": [
    "plot(timevec, resultvals,  # we should of course at a minimum provide some labels\n",
    "title  = \"Example of SIR results\",\n",
    "xlabel = \"Epidemic day\",\n",
    "ylabel = \"Population size\",\n",
    "label  = [\"Susceptibles\" \"Infecteds\" \"Removeds\"]\n",
    ")"
   ]
  },
  {
   "cell_type": "markdown",
   "metadata": {},
   "source": [
    "[Back to the top](#In-this-lecture)"
   ]
  }
 ],
 "metadata": {
  "kernelspec": {
   "display_name": "Julia 0.6.2",
   "language": "julia",
   "name": "julia-0.6"
  },
  "language_info": {
   "file_extension": ".jl",
   "mimetype": "application/julia",
   "name": "julia",
   "version": "0.6.2"
  }
 },
 "nbformat": 4,
 "nbformat_minor": 1
}
